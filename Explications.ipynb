{
  "nbformat": 4,
  "nbformat_minor": 0,
  "metadata": {
    "colab": {
      "name": "Explications.ipynb",
      "provenance": [],
      "collapsed_sections": []
    },
    "kernelspec": {
      "name": "python3",
      "display_name": "Python 3"
    },
    "language_info": {
      "name": "python"
    }
  },
  "cells": [
    {
      "cell_type": "code",
      "metadata": {
        "id": "6gUjZXTmDX2g"
      },
      "source": [
        "from library.models import *\n",
        "from library.code import *\n",
        "from library.utilities import *"
      ],
      "execution_count": 25,
      "outputs": []
    },
    {
      "cell_type": "code",
      "metadata": {
        "id": "dSI-xVTvDYLA"
      },
      "source": [
        "# Importation données d'entraînement\n",
        "Str0 = pd.read_csv('data/Xtr0.csv')\n",
        "Str1 = pd.read_csv('data/Xtr1.csv')\n",
        "Str2 = pd.read_csv('data/Xtr2.csv')\n",
        "Ste0 = pd.read_csv('data/Xte0.csv')\n",
        "Ste1 = pd.read_csv('data/Xte1.csv')\n",
        "Ste2 = pd.read_csv('data/Xte2.csv')"
      ],
      "execution_count": 26,
      "outputs": []
    },
    {
      "cell_type": "code",
      "metadata": {
        "id": "ls4XXCqxDeD4"
      },
      "source": [
        "Str = [Str0, Str1, Str2]\n",
        "Ste = [Ste0, Ste1, Ste2]\n",
        "S = [list(Str[i].seq.values)+list(Ste[i].seq.values) for i in range(3)] # Listes des séquences pour chaque échantillon"
      ],
      "execution_count": 27,
      "outputs": []
    },
    {
      "cell_type": "markdown",
      "metadata": {
        "id": "PE2GKy1VD5qQ"
      },
      "source": [
        "## Calcul des noyaux"
      ]
    },
    {
      "cell_type": "code",
      "metadata": {
        "id": "AALtuyYnD9GA"
      },
      "source": [
        "# Fonctions pour transformer les séquences en vecteurs :\n",
        "\n",
        "# encode(seqs, size=2) -> Extraction des sous-chaînes de longueur size et donne les vecteurs des fréquences d'apparition\n",
        "# encode(seqs, size=3, size_sent=3) -> Pareil sur des chaînes de size_sent mots de size caractères\n",
        "# encode(seqs, size=3, tfidf=True) -> Valeurs de la TF-IDF plutôt que les fréquences simples\n",
        "\n",
        "# seq_to_num(seqs,to='aa',OH=True,size_sent=1) -> Encode les séquences en les \"traduisant\" en suites numériques correspondant aux codons qu'elles contiennent (avec encodage One-Hot)\n",
        "# to='aa' pour la traduction en acides aminés\n",
        "# to=dict pour utiliser un dictionnaire associant un entier à chaque sous-séquence possible\n",
        "\n",
        "# Output : Matrice sparse (scipy.sparse.csr_matrix)"
      ],
      "execution_count": 28,
      "outputs": []
    },
    {
      "cell_type": "code",
      "metadata": {
        "id": "PFSooy21FHoJ"
      },
      "source": [
        "# Fonctions pour calculer les noyaux :\n",
        "\n",
        "# gauss_kernel(X, gamma) -> Renvoie le noyau gaussien sur les vecteurs de X (matrice sparse)\n",
        "# ps(X) -> Noyau linéaire (produits scalaires des vecteurs de X)\n",
        "\n",
        "# Output : Matrice dense symétrique de taille (X.shape[0]*X.shape[0])"
      ],
      "execution_count": 29,
      "outputs": []
    },
    {
      "cell_type": "code",
      "metadata": {
        "colab": {
          "base_uri": "https://localhost:8080/",
          "height": 265
        },
        "id": "q0Qo2d2ADkrX",
        "outputId": "9422e6aa-a00b-47a9-b858-04392b2168fc"
      },
      "source": [
        "# Exemple : Noyau spectral gaussien sur sous-chaînes de 3 mots de 2 caractères\n",
        "Kg23 = [gauss_kernel(encode(seqs,size=2,size_sent=3),gamma=0.005) for seqs in S]\n",
        "plt.hist(Kg23[0].flatten(),bins=100,label='0')\n",
        "plt.hist(Kg23[1].flatten(),bins=100,label='1')\n",
        "plt.hist(Kg23[2].flatten(),bins=100,label='2')\n",
        "plt.legend(loc='best')\n",
        "plt.show()"
      ],
      "execution_count": 30,
      "outputs": [
        {
          "output_type": "display_data",
          "data": {
            "image/png": "[encoded data removed]",
            "text/plain": [
              "<Figure size 432x288 with 1 Axes>"
            ]
          },
          "metadata": {
            "tags": [],
            "needs_background": "light"
          }
        }
      ]
    },
    {
      "cell_type": "code",
      "metadata": {
        "colab": {
          "base_uri": "https://localhost:8080/",
          "height": 276
        },
        "id": "PuxxXubYGnZj",
        "outputId": "7ce6be6a-29ab-488d-ff4c-b7708d1be3f3"
      },
      "source": [
        "# Exemple : Noyau spectral gaussien sur sous-chaînes de 7 caractères\n",
        "Kg7 = [gauss_kernel(encode(seqs,size=7),gamma=0.005) for seqs in S]\n",
        "plt.hist(Kg7[0].flatten(),bins=100,label='0')\n",
        "plt.hist(Kg7[1].flatten(),bins=100,label='1')\n",
        "plt.hist(Kg7[2].flatten(),bins=100,label='2')\n",
        "plt.legend(loc='best')\n",
        "plt.show()"
      ],
      "execution_count": 31,
      "outputs": [
        {
          "output_type": "display_data",
          "data": {
            "image/png": "[encoded data removed]",
            "text/plain": [
              "<Figure size 432x288 with 1 Axes>"
            ]
          },
          "metadata": {
            "tags": [],
            "needs_background": "light"
          }
        }
      ]
    },
    {
      "cell_type": "code",
      "metadata": {
        "colab": {
          "base_uri": "https://localhost:8080/",
          "height": 276
        },
        "id": "YgzUq_Z7Gug6",
        "outputId": "2a3ae7a1-6ada-43a3-888c-34fb9c8fae6c"
      },
      "source": [
        "# Exemple : Noyau spectral gaussien sur la traduction en codons avec Encodage One-Hot\n",
        "Ktradcod = [gauss_kernel(seq_to_num(seqs,to=codons_to_num)) for seqs in S]\n",
        "plt.hist(Ktradcod[0].flatten(),bins=100,label='0')\n",
        "plt.hist(Ktradcod[1].flatten(),bins=100,label='1')\n",
        "plt.hist(Ktradcod[2].flatten(),bins=100,label='2')\n",
        "plt.legend(loc='best')\n",
        "plt.show()"
      ],
      "execution_count": 32,
      "outputs": [
        {
          "output_type": "display_data",
          "data": {
            "image/png": "[encoded data removed]",
            "text/plain": [
              "<Figure size 432x288 with 1 Axes>"
            ]
          },
          "metadata": {
            "tags": [],
            "needs_background": "light"
          }
        }
      ]
    },
    {
      "cell_type": "markdown",
      "metadata": {
        "id": "3unfrJJtHCiX"
      },
      "source": [
        "## Évaluation des noyaux"
      ]
    },
    {
      "cell_type": "code",
      "metadata": {
        "id": "a4xFc1U_HRLU"
      },
      "source": [
        "# Fonction pour évaluer les noyaux sur les différents échantillons et selon la méthode souhaitée\n",
        "# evalModel(kernels,model,datasets,n_iter,lbd_values)\n",
        "# kernels = dictionnaire donnant les noyaux à tester (associe nom de noyau à la variable le contenant)\n",
        "# model = 'KRR' ou 'SVM'\n",
        "# datasets = liste des échantillons à tester ([0], [0,2], [0,1,2], ...)\n",
        "# n_iter = nombre d'itérations de validation croisée à effectuer (le SVM est plus lent donc j'en faisais 3 seulement)\n",
        "# lbd_values = valeurs de lambda à tester"
      ],
      "execution_count": 33,
      "outputs": []
    },
    {
      "cell_type": "code",
      "metadata": {
        "colab": {
          "base_uri": "https://localhost:8080/"
        },
        "id": "XOQ6ojEoG_6J",
        "outputId": "f39899ee-8ac0-46cd-e7cd-dd27e9c15981"
      },
      "source": [
        "evalModel(kernels={'Spectral 7':Kg7}, model='KRR',datasets=[0,1,2],n_iter=10,lbd_values=0.000005*10**np.arange(5))"
      ],
      "execution_count": 10,
      "outputs": [
        {
          "output_type": "stream",
          "text": [
            "\n",
            "Dataset  0\n",
            "\n",
            "Spectral 7\n",
            "lbd = 5e-06\n",
            "Averaged AUC = 0.6979941945883955  -- Averaged ACC = [0.5213  0.64195 0.64125 0.6427 ] (seuils : opt_thr, 0.5, MOY, MED)\n",
            "lbd = 5e-05\n",
            "Averaged AUC = 0.6949668462133431  -- Averaged ACC = [0.53765 0.6384  0.63615 0.6366 ] (seuils : opt_thr, 0.5, MOY, MED)\n",
            "lbd = 0.0005\n",
            "Averaged AUC = 0.70965836519669  -- Averaged ACC = [0.61915 0.64445 0.64265 0.6477 ] (seuils : opt_thr, 0.5, MOY, MED)\n",
            "lbd = 0.005\n",
            "Averaged AUC = 0.7075749588892255  -- Averaged ACC = [0.6434 0.6373 0.6214 0.6445] (seuils : opt_thr, 0.5, MOY, MED)\n",
            "lbd = 0.05\n",
            "Averaged AUC = 0.6900178448727963  -- Averaged ACC = [0.6291  0.5256  0.60925 0.6303 ] (seuils : opt_thr, 0.5, MOY, MED)\n",
            "\n",
            "AUC Max = 0.70965836519669  --  lbd = 0.0005 \n",
            "\n",
            "\n",
            "Dataset  1\n",
            "\n",
            "Spectral 7\n",
            "lbd = 5e-06\n",
            "Averaged AUC = 0.680386269116195  -- Averaged ACC = [0.5024  0.62655 0.62605 0.6259 ] (seuils : opt_thr, 0.5, MOY, MED)\n",
            "lbd = 5e-05\n",
            "Averaged AUC = 0.6877175962341829  -- Averaged ACC = [0.5123  0.63175 0.6323  0.6324 ] (seuils : opt_thr, 0.5, MOY, MED)\n",
            "lbd = 0.0005\n",
            "Averaged AUC = 0.6922785362056944  -- Averaged ACC = [0.6239  0.63515 0.6352  0.6358 ] (seuils : opt_thr, 0.5, MOY, MED)\n",
            "lbd = 0.005\n",
            "Averaged AUC = 0.6950678980852508  -- Averaged ACC = [0.6356  0.62535 0.63685 0.6363 ] (seuils : opt_thr, 0.5, MOY, MED)\n",
            "lbd = 0.05\n",
            "Averaged AUC = 0.6922502138971481  -- Averaged ACC = [0.63395 0.5491  0.63555 0.6361 ] (seuils : opt_thr, 0.5, MOY, MED)\n",
            "\n",
            "AUC Max = 0.6950678980852508  --  lbd = 0.005 \n",
            "\n",
            "\n",
            "Dataset  2\n",
            "\n",
            "Spectral 7\n",
            "lbd = 5e-06\n",
            "Averaged AUC = 0.817942151254963  -- Averaged ACC = [0.5457  0.7292  0.731   0.73035] (seuils : opt_thr, 0.5, MOY, MED)\n",
            "lbd = 5e-05\n",
            "Averaged AUC = 0.8204340850624446  -- Averaged ACC = [0.59745 0.7326  0.73225 0.7338 ] (seuils : opt_thr, 0.5, MOY, MED)\n",
            "lbd = 0.0005\n",
            "Averaged AUC = 0.8288682487470358  -- Averaged ACC = [0.7122  0.73445 0.73445 0.742  ] (seuils : opt_thr, 0.5, MOY, MED)\n",
            "lbd = 0.005\n",
            "Averaged AUC = 0.81295415285532  -- Averaged ACC = [0.7247 0.6724 0.6712 0.7289] (seuils : opt_thr, 0.5, MOY, MED)\n",
            "lbd = 0.05\n",
            "Averaged AUC = 0.795138079149907  -- Averaged ACC = [0.7094  0.65485 0.65195 0.71   ] (seuils : opt_thr, 0.5, MOY, MED)\n",
            "\n",
            "AUC Max = 0.8288682487470358  --  lbd = 0.0005 \n",
            "\n"
          ],
          "name": "stdout"
        },
        {
          "output_type": "execute_result",
          "data": {
            "text/plain": [
              "([[0,\n",
              "   'Spectral 7',\n",
              "   0.70965836519669,\n",
              "   0.0005,\n",
              "   array([0.70965837, 0.99963176, 0.61915   , 0.9953    , 0.4614397 ,\n",
              "          0.4614397 , 0.90858854, 0.35182872, 0.64445   , 0.64265   ,\n",
              "          0.6477    ])],\n",
              "  [1,\n",
              "   'Spectral 7',\n",
              "   0.6950678980852508,\n",
              "   0.005,\n",
              "   array([0.6950679 , 0.99838527, 0.6356    , 0.9915125 , 0.50165762,\n",
              "          0.50165762, 0.63673297, 0.63486796, 0.62535   , 0.63685   ,\n",
              "          0.6363    ])],\n",
              "  [2,\n",
              "   'Spectral 7',\n",
              "   0.8288682487470358,\n",
              "   0.0005,\n",
              "   array([0.82886825, 0.99963472, 0.7122    , 0.9974875 , 0.48536509,\n",
              "          0.48536509, 0.8947301 , 0.52925637, 0.73445   , 0.73445   ,\n",
              "          0.742     ])]],\n",
              " [[(array([[-0.91275645],\n",
              "           [ 0.70091091],\n",
              "           [ 0.76374105],\n",
              "           ...,\n",
              "           [-0.79062059],\n",
              "           [-0.20656318],\n",
              "           [-0.65853006]]), 0),\n",
              "   array([   0,    1,    3, ..., 1997, 1998, 1999]),\n",
              "   0.4528336405629961,\n",
              "   0.7594246404002502,\n",
              "   array([0.6525, 0.7   , 0.675 , 0.7025])],\n",
              "  [(array([[-0.11330152],\n",
              "           [ 0.11571497],\n",
              "           [ 0.11454575],\n",
              "           ...,\n",
              "           [ 0.11057008],\n",
              "           [ 0.11805535],\n",
              "           [ 0.1151998 ]]), 0),\n",
              "   array([   0,    2,    3, ..., 1997, 1998, 1999]),\n",
              "   0.5031589784944779,\n",
              "   0.7383238323832382,\n",
              "   array([0.6575, 0.675 , 0.675 , 0.675 ])],\n",
              "  [(array([[0.49428027],\n",
              "           [0.38784983],\n",
              "           [0.75084284],\n",
              "           ...,\n",
              "           [0.75171921],\n",
              "           [0.467843  ],\n",
              "           [0.75008803]]), 0),\n",
              "   array([   0,    1,    2, ..., 1997, 1998, 1999]),\n",
              "   0.48132372076992824,\n",
              "   0.8780799278846152,\n",
              "   array([0.745, 0.78 , 0.775, 0.805])]])"
            ]
          },
          "metadata": {
            "tags": []
          },
          "execution_count": 10
        }
      ]
    },
    {
      "cell_type": "code",
      "metadata": {
        "colab": {
          "base_uri": "https://localhost:8080/"
        },
        "id": "sY4FvqXCIQj5",
        "outputId": "79b5946c-2684-46e3-c3aa-cec3fee29df1"
      },
      "source": [
        "evalModel(kernels={'Traduction codons OH':Ktradcod}, model='KRR',datasets=[0],n_iter=10,lbd_values=0.00005*10**np.arange(4))"
      ],
      "execution_count": 12,
      "outputs": [
        {
          "output_type": "stream",
          "text": [
            "\n",
            "Dataset  0\n",
            "\n",
            "Traduction codons OH\n",
            "lbd = 5e-05\n",
            "Averaged AUC = 0.704070382182545  -- Averaged ACC = [0.6393  0.58805 0.6407  0.6429 ] (seuils : opt_thr, 0.5, MOY, MED)\n",
            "lbd = 0.0005\n",
            "Averaged AUC = 0.7010233253085346  -- Averaged ACC = [0.63775 0.519   0.635   0.6407 ] (seuils : opt_thr, 0.5, MOY, MED)\n",
            "lbd = 0.005\n",
            "Averaged AUC = 0.6992831925678193  -- Averaged ACC = [0.63775 0.519   0.6347  0.6397 ] (seuils : opt_thr, 0.5, MOY, MED)\n",
            "lbd = 0.05\n",
            "Averaged AUC = 0.7001396990572637  -- Averaged ACC = [0.63495 0.519   0.6359  0.6389 ] (seuils : opt_thr, 0.5, MOY, MED)\n",
            "\n",
            "AUC Max = 0.704070382182545  --  lbd = 5e-05 \n",
            "\n"
          ],
          "name": "stdout"
        },
        {
          "output_type": "execute_result",
          "data": {
            "text/plain": [
              "([[0,\n",
              "   'Traduction codons OH',\n",
              "   0.704070382182545,\n",
              "   5e-05,\n",
              "   array([0.70407038, 0.90346894, 0.6393    , 0.8279125 , 0.49298412,\n",
              "          0.49298412, 0.6136939 , 0.66411666, 0.58805   , 0.6407    ,\n",
              "          0.6429    ])]],\n",
              " [[(array([[ 12.61356585],\n",
              "           [ 12.782848  ],\n",
              "           [ 12.69375619],\n",
              "           ...,\n",
              "           [-12.05040106],\n",
              "           [-10.36033624],\n",
              "           [-11.96368013]]), 0),\n",
              "   array([   1,    2,    3, ..., 1995, 1998, 1999]),\n",
              "   0.493705127029179,\n",
              "   0.7429152848959903,\n",
              "   array([0.68 , 0.65 , 0.68 , 0.675])]])"
            ]
          },
          "metadata": {
            "tags": []
          },
          "execution_count": 12
        }
      ]
    },
    {
      "cell_type": "code",
      "metadata": {
        "colab": {
          "base_uri": "https://localhost:8080/"
        },
        "id": "xaoJ0VpgIcp1",
        "outputId": "52ef06e2-c7f6-485a-de63-fc6617a00449"
      },
      "source": [
        "evalModel(kernels={'Spectral 3-2':Kg23}, model='KRR',datasets=[1],n_iter=10,lbd_values=0.00005*10**np.arange(4))"
      ],
      "execution_count": 13,
      "outputs": [
        {
          "output_type": "stream",
          "text": [
            "\n",
            "Dataset  1\n",
            "\n",
            "Spectral 3-2\n",
            "lbd = 5e-05\n",
            "Averaged AUC = 0.6898464998430027  -- Averaged ACC = [0.57235 0.64055 0.6395  0.6395 ] (seuils : opt_thr, 0.5, MOY, MED)\n",
            "lbd = 0.0005\n",
            "Averaged AUC = 0.690957385207619  -- Averaged ACC = [0.63495 0.6369  0.6364  0.6366 ] (seuils : opt_thr, 0.5, MOY, MED)\n",
            "lbd = 0.005\n",
            "Averaged AUC = 0.6760600447180545  -- Averaged ACC = [0.6246  0.62475 0.624   0.6241 ] (seuils : opt_thr, 0.5, MOY, MED)\n",
            "lbd = 0.05\n",
            "Averaged AUC = 0.6553514484645959  -- Averaged ACC = [0.6094  0.59325 0.61045 0.6107 ] (seuils : opt_thr, 0.5, MOY, MED)\n",
            "\n",
            "AUC Max = 0.690957385207619  --  lbd = 0.0005 \n",
            "\n"
          ],
          "name": "stdout"
        },
        {
          "output_type": "execute_result",
          "data": {
            "text/plain": [
              "([[1,\n",
              "   'Spectral 3-2',\n",
              "   0.690957385207619,\n",
              "   0.0005,\n",
              "   array([0.69095739, 0.98814672, 0.63495   , 0.9470125 , 0.50427056,\n",
              "          0.50427056, 0.62179045, 0.6484111 , 0.6369    , 0.6364    ,\n",
              "          0.6366    ])]],\n",
              " [[(array([[-0.34658933],\n",
              "           [-0.51957531],\n",
              "           [ 0.40492297],\n",
              "           ...,\n",
              "           [ 0.49200317],\n",
              "           [ 1.1114018 ],\n",
              "           [ 0.78837197]]), 0),\n",
              "   array([   0,    1,    3, ..., 1997, 1998, 1999]),\n",
              "   0.5009433331201291,\n",
              "   0.7583758375837584,\n",
              "   array([0.6825, 0.6825, 0.6825, 0.68  ])]])"
            ]
          },
          "metadata": {
            "tags": []
          },
          "execution_count": 13
        }
      ]
    },
    {
      "cell_type": "markdown",
      "metadata": {
        "id": "WFuiTWPfJ9M7"
      },
      "source": [
        "## Entraînement final et prédiction"
      ]
    },
    {
      "cell_type": "markdown",
      "metadata": {
        "id": "vTw8GAF3KLAK"
      },
      "source": [
        "Fonctions train et train_check pour l'entraînement\n",
        "\n",
        "train(K, Y, model, params={'lbd': 0.005})\n",
        "\n",
        "train_check(K, Y, model, params={'lbd': 0.005})\n",
        "\n",
        "K est le noyau, Y les labels, model ('SVM' ou 'KRR') et lbd la valeur de lambda\n",
        "\n",
        "train_check permet d'effectuer en parallèle une validation croisée et de tester sur un jeu de validation (20% du jeu d'entraînement) pour vérifier que ce modèle et ce noyau performent bien.\n",
        "\n",
        "Retourne les paramètres du modèle entraîné : tuple (w,b) contenant le vecteur des poids w et la constante scalaire (biais/intercept) b"
      ]
    },
    {
      "cell_type": "code",
      "metadata": {
        "colab": {
          "base_uri": "https://localhost:8080/"
        },
        "id": "7tM9pfD3J04t",
        "outputId": "832707d2-c3d8-4ba2-eb81-bed0d66711b6"
      },
      "source": [
        "res01, _ = train_check(Kg7[0][:2000,:][:,:2000],Y[:2000],'KRR',params={'lbd':0.0005})"
      ],
      "execution_count": 34,
      "outputs": [
        {
          "output_type": "stream",
          "text": [
            "Averaged AUC = 0.7155680646179636  -- Averaged ACC = [0.6215 0.6575 0.6425 0.657 ] (seuils : opt_thr, 0.5, MOY, MED)\n",
            "Averaged threshold = 0.4598966431649859\n",
            "Best AUC = 0.7440368357487922  ( threshold = 0.4559814524774653 )\n",
            "Best ACC = [0.62   0.6875 0.665  0.69  ]\n"
          ],
          "name": "stdout"
        }
      ]
    },
    {
      "cell_type": "markdown",
      "metadata": {
        "id": "ORIkWN7EMH8x"
      },
      "source": [
        "Fonction predict pour la prédiction\n",
        "\n",
        "predict(K, res, threshold=0.5)\n",
        "\n",
        "K : les noyaux \"test-entraînement\"\n",
        "\n",
        "res : les paramètres du modèle entraîné (w,b)\n",
        "\n",
        "threshold : le seuil pour choisir la classe\n",
        "\n",
        "Retourne les probabilités d'appartenance à la classe 1 (sorties du modèle auxquelles on applique la fonction logit) et les classes (en utilisant le seuil threshold)"
      ]
    },
    {
      "cell_type": "code",
      "metadata": {
        "id": "7TOiQODbLYw0"
      },
      "source": [
        "preds01,cls01 = predict(Kg7[0][2000:,:][:,:2000],res01,threshold=0.5)"
      ],
      "execution_count": 35,
      "outputs": []
    },
    {
      "cell_type": "code",
      "metadata": {
        "colab": {
          "base_uri": "https://localhost:8080/"
        },
        "id": "rtuyP4EgNLV2",
        "outputId": "05afffb5-7faf-4ffd-df77-0d281fa58a18"
      },
      "source": [
        "res02, _ = train_check(Ktradcod[0][:2000,:][:,:2000],Y[:2000],'KRR',params={'lbd':0.0005})\n",
        "preds02,cls02 = predict(Ktradcod[0][2000:,:][:,:2000],res01,threshold=0.5)"
      ],
      "execution_count": 36,
      "outputs": [
        {
          "output_type": "stream",
          "text": [
            "Averaged AUC = 0.7019280774628839  -- Averaged ACC = [0.633  0.519  0.6325 0.637 ] (seuils : opt_thr, 0.5, MOY, MED)\n",
            "Averaged threshold = 0.49082109723428335\n",
            "Best AUC = 0.7358808159983922  ( threshold = 0.4929071766914404 )\n",
            "Best ACC = [0.67  0.535 0.65  0.66 ]\n"
          ],
          "name": "stdout"
        }
      ]
    },
    {
      "cell_type": "markdown",
      "metadata": {
        "id": "oVM4BdJIuDB9"
      },
      "source": [
        "Fonction de sélection du meilleur modèle puis prédiction\n",
        "\n",
        "cv_predict2\n",
        "\n",
        "Cette fonction réalise plusieurs validations croisées et conserve le modèle ayant le mieux performé (paramètres et jeu d'entraînement) puis réalise la prédiction en utilisant ce modèle."
      ]
    },
    {
      "cell_type": "code",
      "metadata": {
        "colab": {
          "base_uri": "https://localhost:8080/"
        },
        "id": "O-AvfI3mxVpC",
        "outputId": "5fefe7f3-a4a3-46ba-e1ea-617224a1587a"
      },
      "source": [
        "K_train = Kg7[0][:2000,:][:,:2000]\n",
        "K_test = Kg7[0][2000:,:][:,:2000]\n",
        "preds03,cls03,_ = cv_predict2(K_train, K_test, Y[:2000], 'KRR', {'lbd':0.0005}, n_iter=5,show=1)\n"
      ],
      "execution_count": 38,
      "outputs": [
        {
          "output_type": "stream",
          "text": [
            "Averaged AUC = 0.7105688481281004\n",
            "Averaged threshold = 0.4607884262880343\n",
            "Best AUC = 0.7573189329733243  ( threshold = 0.456837548939085 )\n"
          ],
          "name": "stdout"
        }
      ]
    },
    {
      "cell_type": "markdown",
      "metadata": {
        "id": "izijMJGsNczv"
      },
      "source": [
        "Combinaison des prédictions"
      ]
    },
    {
      "cell_type": "code",
      "metadata": {
        "id": "XCu53RidNaqu"
      },
      "source": [
        "vals = combine_preds(preds=[preds01,preds02],weights=[0.5,0.5])"
      ],
      "execution_count": 39,
      "outputs": []
    },
    {
      "cell_type": "code",
      "metadata": {
        "colab": {
          "base_uri": "https://localhost:8080/"
        },
        "id": "Ga7DUNJEOB0q",
        "outputId": "70fcaae1-58d0-4e7e-c15f-98ccda528daf"
      },
      "source": [
        "print(vals)  \n",
        "# Colonnes contenant : \n",
        "# - moyenne des \"probabilités\" de chaque modèle (renormalisées dans [-1,1] autour de leur médiane)\n",
        "# - écart-type des prédictions de chaque modèle\n",
        "# - nombre de \"votes\" pour chaque classe (normé pour être dans [-1,1]) (1 si tous les votes pour classe 1, -1 si tous votes pour 0)"
      ],
      "execution_count": 40,
      "outputs": [
        {
          "output_type": "stream",
          "text": [
            "[[ 0.29209323  0.22446192  1.          1.        ]\n",
            " [ 0.4160146   0.04955208  1.          1.        ]\n",
            " [ 0.03131101  0.24013884  0.          1.        ]\n",
            " ...\n",
            " [-0.12122759  0.10488754 -1.          0.        ]\n",
            " [ 0.01430656  0.14992847  0.          1.        ]\n",
            " [-0.11965672  0.04511851 -1.          0.        ]]\n"
          ],
          "name": "stdout"
        }
      ]
    },
    {
      "cell_type": "markdown",
      "metadata": {
        "id": "4KNiq6rmPDVo"
      },
      "source": [
        "### Et encore de nombreuses autres fonctions à explorer dans le code que j'ai fourni !"
      ]
    },
    {
      "cell_type": "code",
      "metadata": {
        "id": "VrEjHDgjU_mr"
      },
      "source": [
        ""
      ],
      "execution_count": null,
      "outputs": []
    },
    {
      "cell_type": "markdown",
      "metadata": {
        "id": "hELBBW12U4Jx"
      },
      "source": [
        "Exemple : le calcul optimisé du substring kernel\n",
        "(et accéléré avec numba)"
      ]
    },
    {
      "cell_type": "code",
      "metadata": {
        "id": "6k0MTqMJQc9n"
      },
      "source": [
        "from library.substringKernel import *"
      ],
      "execution_count": 22,
      "outputs": []
    },
    {
      "cell_type": "code",
      "metadata": {
        "colab": {
          "base_uri": "https://localhost:8080/",
          "height": 334
        },
        "id": "9i3puogvQtzv",
        "outputId": "860368c8-81e4-4b0f-b7f2-504f054b1f89"
      },
      "source": [
        "t = time()\n",
        "K = np.zeros([3000,3000])\n",
        "L = []\n",
        "ys_np = np.array([np.array(list(s)) for s in S[0]])  # toutes les séquences\n",
        "for i,s in enumerate(S[0]):\n",
        "  x_np = np.array(list(s))  # Une séquence s\n",
        "  deltas = (x_np[:,None,None]==ys_np.T)\n",
        "  K[i,i:3000] = substringKernel2(x_np,ys_np[i:],deltas[:,:,i:],k=3,lbd=0.4) # retourne les noyaux entre la séquence s et chacune des autres séquences situées au-dessus de la diagonale\n",
        "  if (i%100 == 0):\n",
        "    print(str(i+1)+'/3000  -- '+str(time()-t)+' s')"
      ],
      "execution_count": 30,
      "outputs": [
        {
          "output_type": "stream",
          "text": [
            "1/3000  -- 1.4931902885437012 s\n",
            "101/3000  -- 159.7536609172821 s\n",
            "201/3000  -- 310.8577287197113 s\n",
            "301/3000  -- 458.01159715652466 s\n",
            "401/3000  -- 603.0583920478821 s\n"
          ],
          "name": "stdout"
        },
        {
          "output_type": "error",
          "ename": "KeyboardInterrupt",
          "evalue": "ignored",
          "traceback": [
            "\u001b[0;31m---------------------------------------------------------------------------\u001b[0m",
            "\u001b[0;31mKeyboardInterrupt\u001b[0m                         Traceback (most recent call last)",
            "\u001b[0;32m<ipython-input-30-9c07e060b38b>\u001b[0m in \u001b[0;36m<module>\u001b[0;34m()\u001b[0m\n\u001b[1;32m      6\u001b[0m   \u001b[0mx_np\u001b[0m \u001b[0;34m=\u001b[0m \u001b[0mnp\u001b[0m\u001b[0;34m.\u001b[0m\u001b[0marray\u001b[0m\u001b[0;34m(\u001b[0m\u001b[0mlist\u001b[0m\u001b[0;34m(\u001b[0m\u001b[0ms\u001b[0m\u001b[0;34m)\u001b[0m\u001b[0;34m)\u001b[0m  \u001b[0;31m# Une séquence s\u001b[0m\u001b[0;34m\u001b[0m\u001b[0;34m\u001b[0m\u001b[0m\n\u001b[1;32m      7\u001b[0m   \u001b[0mdeltas\u001b[0m \u001b[0;34m=\u001b[0m \u001b[0;34m(\u001b[0m\u001b[0mx_np\u001b[0m\u001b[0;34m[\u001b[0m\u001b[0;34m:\u001b[0m\u001b[0;34m,\u001b[0m\u001b[0;32mNone\u001b[0m\u001b[0;34m,\u001b[0m\u001b[0;32mNone\u001b[0m\u001b[0;34m]\u001b[0m\u001b[0;34m==\u001b[0m\u001b[0mys_np\u001b[0m\u001b[0;34m.\u001b[0m\u001b[0mT\u001b[0m\u001b[0;34m)\u001b[0m\u001b[0;34m\u001b[0m\u001b[0;34m\u001b[0m\u001b[0m\n\u001b[0;32m----> 8\u001b[0;31m   \u001b[0mK\u001b[0m\u001b[0;34m[\u001b[0m\u001b[0mi\u001b[0m\u001b[0;34m,\u001b[0m\u001b[0mi\u001b[0m\u001b[0;34m:\u001b[0m\u001b[0;36m3000\u001b[0m\u001b[0;34m]\u001b[0m \u001b[0;34m=\u001b[0m \u001b[0msubstringKernel2\u001b[0m\u001b[0;34m(\u001b[0m\u001b[0mx_np\u001b[0m\u001b[0;34m,\u001b[0m\u001b[0mys_np\u001b[0m\u001b[0;34m[\u001b[0m\u001b[0mi\u001b[0m\u001b[0;34m:\u001b[0m\u001b[0;34m]\u001b[0m\u001b[0;34m,\u001b[0m\u001b[0mdeltas\u001b[0m\u001b[0;34m[\u001b[0m\u001b[0;34m:\u001b[0m\u001b[0;34m,\u001b[0m\u001b[0;34m:\u001b[0m\u001b[0;34m,\u001b[0m\u001b[0mi\u001b[0m\u001b[0;34m:\u001b[0m\u001b[0;34m]\u001b[0m\u001b[0;34m,\u001b[0m\u001b[0mk\u001b[0m\u001b[0;34m=\u001b[0m\u001b[0;36m3\u001b[0m\u001b[0;34m,\u001b[0m\u001b[0mlbd\u001b[0m\u001b[0;34m=\u001b[0m\u001b[0;36m0.4\u001b[0m\u001b[0;34m)\u001b[0m \u001b[0;31m# retourne les noyaux entre la séquence s et chacune des autres séquences situées au-dessus de la diagonale\u001b[0m\u001b[0;34m\u001b[0m\u001b[0;34m\u001b[0m\u001b[0m\n\u001b[0m\u001b[1;32m      9\u001b[0m   \u001b[0;32mif\u001b[0m \u001b[0;34m(\u001b[0m\u001b[0mi\u001b[0m\u001b[0;34m%\u001b[0m\u001b[0;36m100\u001b[0m \u001b[0;34m==\u001b[0m \u001b[0;36m0\u001b[0m\u001b[0;34m)\u001b[0m\u001b[0;34m:\u001b[0m\u001b[0;34m\u001b[0m\u001b[0;34m\u001b[0m\u001b[0m\n\u001b[1;32m     10\u001b[0m     \u001b[0mprint\u001b[0m\u001b[0;34m(\u001b[0m\u001b[0mstr\u001b[0m\u001b[0;34m(\u001b[0m\u001b[0mi\u001b[0m\u001b[0;34m+\u001b[0m\u001b[0;36m1\u001b[0m\u001b[0;34m)\u001b[0m\u001b[0;34m+\u001b[0m\u001b[0;34m'/3000  -- '\u001b[0m\u001b[0;34m+\u001b[0m\u001b[0mstr\u001b[0m\u001b[0;34m(\u001b[0m\u001b[0mtime\u001b[0m\u001b[0;34m(\u001b[0m\u001b[0;34m)\u001b[0m\u001b[0;34m-\u001b[0m\u001b[0mt\u001b[0m\u001b[0;34m)\u001b[0m\u001b[0;34m+\u001b[0m\u001b[0;34m' s'\u001b[0m\u001b[0;34m)\u001b[0m\u001b[0;34m\u001b[0m\u001b[0;34m\u001b[0m\u001b[0m\n",
            "\u001b[0;31mKeyboardInterrupt\u001b[0m: "
          ]
        }
      ]
    },
    {
      "cell_type": "code",
      "metadata": {
        "colab": {
          "base_uri": "https://localhost:8080/"
        },
        "id": "PbunLjCOR41d",
        "outputId": "e286b00c-ab15-44e0-aa2e-670d96915250"
      },
      "source": [
        "# Extrait de la matrice (on la complètera en symétrisant)\n",
        "print(K[:6,:6])"
      ],
      "execution_count": 36,
      "outputs": [
        {
          "output_type": "stream",
          "text": [
            "[[12.63115777  8.81251402 10.02895847 10.73901852 10.39059496 12.61705674]\n",
            " [ 0.         15.12940444 11.25366682 11.46742559  9.99994249  8.91782011]\n",
            " [ 0.          0.         14.99240398 13.62358858 11.73112503  8.18157823]\n",
            " [ 0.          0.          0.         13.85648829 11.6638469   8.84120523]\n",
            " [ 0.          0.          0.          0.         11.77129451  9.94872315]\n",
            " [ 0.          0.          0.          0.          0.         15.11000575]]\n"
          ],
          "name": "stdout"
        }
      ]
    },
    {
      "cell_type": "code",
      "metadata": {
        "id": "Gtgp59T0VHnm"
      },
      "source": [
        ""
      ],
      "execution_count": null,
      "outputs": []
    }
  ]
}